{
 "cells": [
  {
   "cell_type": "code",
   "execution_count": 231,
   "id": "fb51e3da",
   "metadata": {},
   "outputs": [],
   "source": [
    "import numpy as np\n",
    "import pandas as pd\n",
    "import matplotlib.pyplot as plt"
   ]
  },
  {
   "cell_type": "code",
   "execution_count": 242,
   "id": "197a1c8c",
   "metadata": {
    "scrolled": false
   },
   "outputs": [
    {
     "name": "stdout",
     "output_type": "stream",
     "text": [
      "    sepal.length  sepal.width  petal.length  petal.width     variety\n",
      "0            7.0          3.2           4.7          1.4  Versicolor\n",
      "1            6.9          3.1           4.9          1.5  Versicolor\n",
      "2            6.8          2.8           4.8          1.4  Versicolor\n",
      "3            6.7          3.1           4.7          1.5  Versicolor\n",
      "4            6.7          3.1           4.4          1.4  Versicolor\n",
      "..           ...          ...           ...          ...         ...\n",
      "95           4.5          2.3           1.3          0.3      Setosa\n",
      "96           4.4          3.2           1.3          0.2      Setosa\n",
      "97           4.4          3.0           1.3          0.2      Setosa\n",
      "98           4.4          2.9           1.4          0.2      Setosa\n",
      "99           4.3          3.0           1.1          0.1      Setosa\n",
      "\n",
      "[100 rows x 5 columns]\n"
     ]
    }
   ],
   "source": [
    "# Lendo a tabela\n",
    "tabela = pd.read_excel('iris.xlsx')\n",
    "\n",
    "# Mostrando os dados\n",
    "print(tabela)"
   ]
  },
  {
   "cell_type": "code",
   "execution_count": 233,
   "id": "1e354059",
   "metadata": {},
   "outputs": [],
   "source": [
    "# Preparando os dados do comprimento da pétala\n",
    "\n",
    "PetalLength = pd.read_excel('iris.xlsx', usecols=[2])\n",
    "PetalLength = np.array(PetalLength)\n",
    "PetalLength = np.transpose(PetalLength)\n",
    "\n",
    "# print(PetalLength)"
   ]
  },
  {
   "cell_type": "code",
   "execution_count": 234,
   "id": "e10a0add",
   "metadata": {},
   "outputs": [],
   "source": [
    "# Preparando os dados da largura da pétala\n",
    "\n",
    "PetalWidth = pd.read_excel('iris.xlsx', usecols=[3])\n",
    "PetalWidth = np.array(PetalWidth)\n",
    "PetalWidth = np.transpose(PetalWidth)\n",
    "\n",
    "# print(PetalWidth)"
   ]
  },
  {
   "cell_type": "code",
   "execution_count": 235,
   "id": "c43b5ec8",
   "metadata": {},
   "outputs": [],
   "source": [
    "# Preparando os dados do comprimento da sépala\n",
    "\n",
    "SepalLength = pd.read_excel('iris.xlsx', usecols=[0])\n",
    "SepalLength = np.array(SepalLength)\n",
    "SepalLength = np.transpose(SepalLength)\n",
    "\n",
    "# print(SepalLength)"
   ]
  },
  {
   "cell_type": "code",
   "execution_count": 236,
   "id": "0a80f726",
   "metadata": {},
   "outputs": [],
   "source": [
    "# Preparando os dados do largura da pétala\n",
    "\n",
    "SepalWidth = pd.read_excel('iris.xlsx', usecols=[1])\n",
    "SepalWidth = np.array(SepalWidth)\n",
    "SepalWidth = np.transpose(SepalWidth)\n",
    "\n",
    "# print(SepalWidth)\n",
    "# type(SepalWidth)"
   ]
  },
  {
   "cell_type": "code",
   "execution_count": 237,
   "id": "db0fcecd",
   "metadata": {},
   "outputs": [],
   "source": [
    "# Saida\n",
    "\n",
    "Variety = pd.read_excel('iris.xlsx', usecols=[4])\n",
    "Variety.replace(['Versicolor', 'Setosa'], [1, -1], inplace=True)\n",
    "Variety = np.array(Variety)\n",
    "Variety = np.transpose(Variety)\n",
    "\n",
    "# print(Variety)\n",
    "# type(Variety)\n",
    "\n"
   ]
  },
  {
   "cell_type": "code",
   "execution_count": 238,
   "id": "1287f6d6",
   "metadata": {},
   "outputs": [],
   "source": [
    "# Dados para treinamento\n",
    "\n",
    "Epocas = 1000\n",
    "Amostras = 6\n",
    "bias = 1\n",
    "eta = 0.1\n",
    "\n",
    "# Entrada do perceptron\n",
    "# Iris-Setosa = -1, Iris-Versicolor = 1\n",
    "X = np.vstack((SepalLength, SepalWidth, PetalLength, PetalWidth))\n",
    "Y = np.array(Variety)\n",
    "\n",
    "# Vetor de inicialização \n",
    "# 5 para os 4 dados + bias???\n",
    "vetorZero = np.zeros([1, 5]) \n",
    "\n",
    "# Array de erros\n",
    "e = np.zeros(100)"
   ]
  },
  {
   "cell_type": "code",
   "execution_count": 239,
   "id": "c16a4dd3",
   "metadata": {},
   "outputs": [],
   "source": [
    "def funcaoAtivacao(valor):\n",
    "    if valor < 0.0:\n",
    "        return(-1)\n",
    "    else:\n",
    "        return(1)"
   ]
  },
  {
   "cell_type": "code",
   "execution_count": 240,
   "id": "11a5d237",
   "metadata": {},
   "outputs": [],
   "source": [
    "# Desenvolvendo o treinamento\n",
    "for j in range(Epocas):\n",
    "    for k in range(Amostras):\n",
    "        \n",
    "        # Inserindo o bias\n",
    "        # : significa que o irá usar todas as linhas até o índice K???\n",
    "        xb = np.hstack((bias, X[:,k]))\n",
    "        \n",
    "        # Produto escalar dos vetores de entrada (campo induzido, vetor resultante...)\n",
    "        V = np.dot(vetorZero, xb)\n",
    "        \n",
    "        # Saída\n",
    "        # Porque duplo parênteses???\n",
    "        Yr = funcaoAtivacao((V))\n",
    "        \n",
    "        # Cálculo de erro\n",
    "#         e[k] = Y[k] - Yr\n",
    "        \n",
    "        # Treinamento da rede\n",
    "        vetorZero = vetorZero + eta * e[k] * xb"
   ]
  },
  {
   "cell_type": "code",
   "execution_count": 241,
   "id": "214f1546",
   "metadata": {},
   "outputs": [
    {
     "data": {
      "image/png": "[encoded data removed]",
      "text/plain": [
       "<Figure size 432x288 with 1 Axes>"
      ]
     },
     "metadata": {
      "needs_background": "light"
     },
     "output_type": "display_data"
    }
   ],
   "source": [
    "plt.scatter(PetalWidth, SepalWidth)\n",
    "plt.show()"
   ]
  },
  {
   "cell_type": "code",
   "execution_count": null,
   "id": "6a65c103",
   "metadata": {},
   "outputs": [],
   "source": []
  }
 ],
 "metadata": {
  "kernelspec": {
   "display_name": "Python 3",
   "language": "python",
   "name": "python3"
  },
  "language_info": {
   "codemirror_mode": {
    "name": "ipython",
    "version": 3
   },
   "file_extension": ".py",
   "mimetype": "text/x-python",
   "name": "python",
   "nbconvert_exporter": "python",
   "pygments_lexer": "ipython3",
   "version": "3.8.8"
  }
 },
 "nbformat": 4,
 "nbformat_minor": 5
}
