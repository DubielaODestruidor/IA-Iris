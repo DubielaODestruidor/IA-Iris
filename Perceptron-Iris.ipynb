{
 "cells": [
  {
   "cell_type": "code",
   "execution_count": 1,
   "id": "fb51e3da",
   "metadata": {},
   "outputs": [],
   "source": [
    "import numpy as np\n",
    "import pandas as pd\n",
    "import matplotlib.pyplot as plt"
   ]
  },
  {
   "cell_type": "code",
   "execution_count": 2,
   "id": "197a1c8c",
   "metadata": {
    "scrolled": false
   },
   "outputs": [],
   "source": [
    "# Lendo a tabela\n",
    "tabela = pd.read_excel('iris.xlsx')\n",
    "\n",
    "# Mostrando os dados\n",
    "# tabela.head()"
   ]
  },
  {
   "cell_type": "code",
   "execution_count": 3,
   "id": "1e354059",
   "metadata": {},
   "outputs": [],
   "source": [
    "# Preparando os dados do comprimento da pétala\n",
    "\n",
    "petalLength = pd.read_excel('iris.xlsx', usecols=[2])\n",
    "petalLength = np.array(petalLength)\n",
    "petalLength = np.transpose(petalLength)\n",
    "\n",
    "# display(petalLength)"
   ]
  },
  {
   "cell_type": "code",
   "execution_count": 4,
   "id": "e10a0add",
   "metadata": {},
   "outputs": [],
   "source": [
    "# Preparando os dados da largura da pétala\n",
    "\n",
    "petalWidth = pd.read_excel('iris.xlsx', usecols=[3])\n",
    "petalWidth = np.array(petalWidth)\n",
    "petalWidth = np.transpose(petalWidth)\n",
    "\n",
    "# display(petalWidth)"
   ]
  },
  {
   "cell_type": "code",
   "execution_count": 5,
   "id": "c43b5ec8",
   "metadata": {},
   "outputs": [],
   "source": [
    "# Preparando os dados do comprimento da sépala\n",
    "\n",
    "sepalLength = pd.read_excel('iris.xlsx', usecols=[0])\n",
    "sepalLength = np.array(sepalLength)\n",
    "sepalLength = np.transpose(sepalLength)\n",
    "\n",
    "# display(sepalLength)"
   ]
  },
  {
   "cell_type": "code",
   "execution_count": 6,
   "id": "0a80f726",
   "metadata": {},
   "outputs": [],
   "source": [
    "# Preparando os dados do largura da pétala\n",
    "\n",
    "sepalWidth = pd.read_excel('iris.xlsx', usecols=[1])\n",
    "sepalWidth = np.array(sepalWidth)\n",
    "sepalWidth = np.transpose(sepalWidth)\n",
    "\n",
    "# display(sepalWidth)"
   ]
  },
  {
   "cell_type": "code",
   "execution_count": 7,
   "id": "db0fcecd",
   "metadata": {},
   "outputs": [],
   "source": [
    "# Saida\n",
    "\n",
    "variety = pd.read_excel('iris.xlsx', usecols=[4])\n",
    "variety.replace(['Versicolor', 'Setosa'], [1, -1], inplace=True)\n",
    "variety = np.array(variety)\n",
    "variety = np.transpose(variety)\n",
    "\n",
    "# display(variety)"
   ]
  },
  {
   "cell_type": "code",
   "execution_count": 8,
   "id": "c457a397",
   "metadata": {},
   "outputs": [
    {
     "name": "stdout",
     "output_type": "stream",
     "text": [
      "100\n",
      "100\n",
      "100\n",
      "100\n",
      "100\n"
     ]
    }
   ],
   "source": [
    "print(variety.size)\n",
    "print(sepalLength.size)\n",
    "print(sepalWidth.size)\n",
    "print(petalLength.size)\n",
    "print(petalWidth.size)"
   ]
  },
  {
   "cell_type": "code",
   "execution_count": 9,
   "id": "1287f6d6",
   "metadata": {},
   "outputs": [],
   "source": [
    "numEpocas =  20                    \n",
    "q = variety.size                         \n",
    "eta = 0.01             \n",
    "m = 4                  \n",
    "N = 8                  \n",
    "L = 1    \n",
    "bias = 1\n",
    "\n",
    "d = np.array(variety)\n",
    "W1 = np.random.random((N, m + 1)) \n",
    "W2 = np.random.random((L, N + 1)) \n",
    "E = np.zeros(q)\n",
    "Etm = np.zeros(numEpocas) \n",
    "X = np.vstack((sepalLength, sepalWidth, petalLength, petalWidth))"
   ]
  },
  {
   "cell_type": "code",
   "execution_count": 31,
   "id": "bddf7144",
   "metadata": {},
   "outputs": [
    {
     "data": {
      "text/plain": [
       "10000"
      ]
     },
     "metadata": {},
     "output_type": "display_data"
    },
    {
     "ename": "ValueError",
     "evalue": "shapes (100,100) and (1,) not aligned: 100 (dim 1) != 1 (dim 0)",
     "output_type": "error",
     "traceback": [
      "\u001b[1;31m---------------------------------------------------------------------------\u001b[0m",
      "\u001b[1;31mValueError\u001b[0m                                Traceback (most recent call last)",
      "\u001b[1;32m<ipython-input-31-f875b9ca272c>\u001b[0m in \u001b[0;36m<module>\u001b[1;34m\u001b[0m\n\u001b[0;32m      8\u001b[0m         \u001b[0mdisplay\u001b[0m\u001b[1;33m(\u001b[0m\u001b[0mnp\u001b[0m\u001b[1;33m.\u001b[0m\u001b[0mdiag\u001b[0m\u001b[1;33m(\u001b[0m\u001b[0me\u001b[0m\u001b[1;33m)\u001b[0m\u001b[1;33m.\u001b[0m\u001b[0msize\u001b[0m\u001b[1;33m)\u001b[0m\u001b[1;33m\u001b[0m\u001b[1;33m\u001b[0m\u001b[0m\n\u001b[0;32m      9\u001b[0m         \u001b[0mE\u001b[0m\u001b[1;33m[\u001b[0m\u001b[0mj\u001b[0m\u001b[1;33m]\u001b[0m \u001b[1;33m=\u001b[0m \u001b[1;33m(\u001b[0m\u001b[0me\u001b[0m\u001b[1;33m.\u001b[0m\u001b[0mtranspose\u001b[0m\u001b[1;33m(\u001b[0m\u001b[1;33m)\u001b[0m\u001b[1;33m.\u001b[0m\u001b[0mdot\u001b[0m\u001b[1;33m(\u001b[0m\u001b[0me\u001b[0m\u001b[1;33m)\u001b[0m\u001b[1;33m)\u001b[0m\u001b[1;33m/\u001b[0m\u001b[1;36m2\u001b[0m\u001b[1;33m\u001b[0m\u001b[1;33m\u001b[0m\u001b[0m\n\u001b[1;32m---> 10\u001b[1;33m         \u001b[0mdelta2\u001b[0m \u001b[1;33m=\u001b[0m \u001b[0mnp\u001b[0m\u001b[1;33m.\u001b[0m\u001b[0mdiag\u001b[0m\u001b[1;33m(\u001b[0m\u001b[0me\u001b[0m\u001b[1;33m)\u001b[0m\u001b[1;33m.\u001b[0m\u001b[0mdot\u001b[0m\u001b[1;33m(\u001b[0m\u001b[1;33m(\u001b[0m\u001b[1;36m1\u001b[0m \u001b[1;33m-\u001b[0m \u001b[0mY\u001b[0m\u001b[1;33m*\u001b[0m\u001b[0mY\u001b[0m\u001b[1;33m)\u001b[0m\u001b[1;33m)\u001b[0m\u001b[1;33m\u001b[0m\u001b[1;33m\u001b[0m\u001b[0m\n\u001b[0m\u001b[0;32m     11\u001b[0m         \u001b[0mvdelta2\u001b[0m \u001b[1;33m=\u001b[0m \u001b[1;33m(\u001b[0m\u001b[0mW2\u001b[0m\u001b[1;33m.\u001b[0m\u001b[0mtranspose\u001b[0m\u001b[1;33m(\u001b[0m\u001b[1;33m)\u001b[0m\u001b[1;33m)\u001b[0m\u001b[1;33m.\u001b[0m\u001b[0mdot\u001b[0m\u001b[1;33m(\u001b[0m\u001b[0mdelta2\u001b[0m\u001b[1;33m)\u001b[0m\u001b[1;33m\u001b[0m\u001b[1;33m\u001b[0m\u001b[0m\n\u001b[0;32m     12\u001b[0m         \u001b[0mdelta1\u001b[0m \u001b[1;33m=\u001b[0m \u001b[0mnp\u001b[0m\u001b[1;33m.\u001b[0m\u001b[0mdiag\u001b[0m\u001b[1;33m(\u001b[0m\u001b[1;36m1\u001b[0m \u001b[1;33m-\u001b[0m \u001b[0mo1b\u001b[0m\u001b[1;33m*\u001b[0m\u001b[0mo1b\u001b[0m\u001b[1;33m)\u001b[0m\u001b[1;33m.\u001b[0m\u001b[0mdot\u001b[0m\u001b[1;33m(\u001b[0m\u001b[0mvdelta2\u001b[0m\u001b[1;33m)\u001b[0m\u001b[1;33m\u001b[0m\u001b[1;33m\u001b[0m\u001b[0m\n",
      "\u001b[1;31mValueError\u001b[0m: shapes (100,100) and (1,) not aligned: 100 (dim 1) != 1 (dim 0)"
     ]
    }
   ],
   "source": [
    "for i in range(numEpocas):\n",
    "    for j in range(q): \n",
    "        Xb = np.hstack((bias, X[:,j]))  \n",
    "        o1 = np.tanh(W1.dot(Xb))\n",
    "        o1b = np.insert(o1, 0, bias)\n",
    "        Y = np.tanh(W2.dot(o1b))\n",
    "        e = d[j] - Y    \n",
    "        E[j] = (e.transpose().dot(e))/2\n",
    "        delta2 = np.diag(e).dot((1 - Y*Y))                               \n",
    "        vdelta2 = (W2.transpose()).dot(delta2)                           \n",
    "        delta1 = np.diag(1 - o1b*o1b).dot(vdelta2)                       \n",
    "        W1 = W1 + eta*(np.outer(delta1[1:], Xb))\n",
    "        W2 = W2 + eta*(np.outer(delta2, o1b))\n",
    "    Etm[i] = E.mean()"
   ]
  },
  {
   "cell_type": "code",
   "execution_count": null,
   "id": "c16a4dd3",
   "metadata": {},
   "outputs": [],
   "source": [
    "def funcaoAtivacao(valor):\n",
    "    if valor < 0.0:\n",
    "        return(-1)\n",
    "    else:\n",
    "        return(1)"
   ]
  },
  {
   "cell_type": "code",
   "execution_count": null,
   "id": "11a5d237",
   "metadata": {},
   "outputs": [],
   "source": [
    "# Desenvolvendo o treinamento\n",
    "for i in range(numEpocas):\n",
    "    for j in range(q):\n",
    "        \n",
    "        # Inserindo o bias\n",
    "        # : significa que o irá usar todas as linhas até o índice K???\n",
    "        xb = np.hstack((bias, X[:,k]))\n",
    "        \n",
    "        # Produto escalar dos vetores de entrada (campo induzido, vetor resultante...)\n",
    "        V = np.dot(vetorZero, xb)\n",
    "        \n",
    "        # Saída\n",
    "        # Porque duplo parênteses???\n",
    "        Yr = funcaoAtivacao((V))\n",
    "        \n",
    "        # Cálculo de erro\n",
    "#         e[k] = Y[k] - Yr\n",
    "        \n",
    "        # Treinamento da rede\n",
    "        vetorZero = vetorZero + eta * e[k] * xb"
   ]
  },
  {
   "cell_type": "code",
   "execution_count": null,
   "id": "214f1546",
   "metadata": {},
   "outputs": [],
   "source": [
    "plt.scatter(petalWidth)\n",
    "plt.show()"
   ]
  },
  {
   "cell_type": "code",
   "execution_count": null,
   "id": "6a65c103",
   "metadata": {},
   "outputs": [],
   "source": [
    "display(vetorZero)"
   ]
  }
 ],
 "metadata": {
  "kernelspec": {
   "display_name": "Python 3",
   "language": "python",
   "name": "python3"
  },
  "language_info": {
   "codemirror_mode": {
    "name": "ipython",
    "version": 3
   },
   "file_extension": ".py",
   "mimetype": "text/x-python",
   "name": "python",
   "nbconvert_exporter": "python",
   "pygments_lexer": "ipython3",
   "version": "3.8.8"
  }
 },
 "nbformat": 4,
 "nbformat_minor": 5
}
