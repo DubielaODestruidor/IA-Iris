{
 "cells": [
  {
   "cell_type": "code",
   "execution_count": 1,
   "id": "fb51e3da",
   "metadata": {},
   "outputs": [],
   "source": [
    "import numpy as np\n",
    "import pandas as pd\n",
    "import matplotlib.pyplot as plt"
   ]
  },
  {
   "cell_type": "code",
   "execution_count": 2,
   "id": "197a1c8c",
   "metadata": {
    "scrolled": false
   },
   "outputs": [],
   "source": [
    "# Lendo a tabela\n",
    "tabela = pd.read_excel('iris.xlsx')\n",
    "\n",
    "# Mostrando os dados\n",
    "# tabela.head()"
   ]
  },
  {
   "cell_type": "code",
<<<<<<< HEAD
   "execution_count": 3,
   "id": "1e354059",
   "metadata": {},
   "outputs": [],
=======
   "execution_count": 19,
   "id": "1e354059",
   "metadata": {},
   "outputs": [
    {
     "name": "stdout",
     "output_type": "stream",
     "text": [
      "[[4.7 4.9 4.8 4.7 4.4 5.  4.4 4.6 4.6 4.5 4.3 4.7 4.9 4.4 4.3 4.5 4.6 4.7\n",
      "  4.7 4.  4.5 4.5 5.1 4.  4.8 4.2 1.2 4.1 3.9 4.  1.5 1.7 4.2 4.2 4.5 4.1\n",
      "  3.5 4.5 4.1 3.6 4.2 3.9 1.4 1.3 4.4 4.  3.8 3.7 4.  1.7 1.3 1.5 1.7 1.5\n",
      "  4.5 1.5 1.5 1.5 1.4 3.9 1.9 1.6 1.5 1.5 1.4 1.4 1.5 1.7 3.  1.4 1.6 1.3\n",
      "  1.6 1.5 1.4 1.2 1.6 3.3 3.5 1.4 1.5 1.5 1.4 3.3 1.9 1.6 1.6 1.4 1.4 1.6\n",
      "  1.3 1.  1.4 1.4 1.5 1.3 1.3 1.3 1.4 1.1]]\n"
     ]
    }
   ],
>>>>>>> 38be372873561f30d05e3d730080d4260ed46241
   "source": [
    "# Preparando os dados do comprimento da pétala\n",
    "\n",
    "petalLength = pd.read_excel('iris.xlsx', usecols=[2])\n",
    "petalLength = np.array(petalLength)\n",
    "petalLength = np.transpose(petalLength)\n",
    "\n",
<<<<<<< HEAD
    "# display(petalLength)"
=======
    "\n",
    "print(petalLength)"
>>>>>>> 38be372873561f30d05e3d730080d4260ed46241
   ]
  },
  {
   "cell_type": "code",
<<<<<<< HEAD
   "execution_count": 4,
=======
   "execution_count": 20,
>>>>>>> 38be372873561f30d05e3d730080d4260ed46241
   "id": "e10a0add",
   "metadata": {},
   "outputs": [],
   "source": [
    "# Preparando os dados da largura da pétala\n",
    "\n",
    "petalWidth = pd.read_excel('iris.xlsx', usecols=[3])\n",
    "petalWidth = np.array(petalWidth)\n",
    "petalWidth = np.transpose(petalWidth)\n",
    "\n",
    "# display(petalWidth)"
   ]
  },
  {
   "cell_type": "code",
<<<<<<< HEAD
   "execution_count": 5,
=======
   "execution_count": 21,
>>>>>>> 38be372873561f30d05e3d730080d4260ed46241
   "id": "c43b5ec8",
   "metadata": {},
   "outputs": [],
   "source": [
    "# Preparando os dados do comprimento da sépala\n",
    "\n",
    "sepalLength = pd.read_excel('iris.xlsx', usecols=[0])\n",
    "sepalLength = np.array(sepalLength)\n",
    "sepalLength = np.transpose(sepalLength)\n",
    "\n",
    "# display(sepalLength)"
   ]
  },
  {
   "cell_type": "code",
<<<<<<< HEAD
   "execution_count": 6,
=======
   "execution_count": 22,
>>>>>>> 38be372873561f30d05e3d730080d4260ed46241
   "id": "0a80f726",
   "metadata": {},
   "outputs": [],
   "source": [
    "# Preparando os dados do largura da pétala\n",
    "\n",
    "sepalWidth = pd.read_excel('iris.xlsx', usecols=[1])\n",
    "sepalWidth = np.array(sepalWidth)\n",
    "sepalWidth = np.transpose(sepalWidth)\n",
    "\n",
    "# display(sepalWidth)"
   ]
  },
  {
   "cell_type": "code",
<<<<<<< HEAD
   "execution_count": 7,
=======
   "execution_count": 23,
>>>>>>> 38be372873561f30d05e3d730080d4260ed46241
   "id": "db0fcecd",
   "metadata": {},
   "outputs": [],
   "source": [
    "# Saida\n",
    "\n",
    "variety = pd.read_excel('iris.xlsx', usecols=[4])\n",
    "variety.replace(['Versicolor', 'Setosa'], [1, -1], inplace=True)\n",
    "variety = np.array(variety)\n",
    "variety = np.transpose(variety)\n",
    "\n",
    "# display(variety)"
   ]
  },
  {
   "cell_type": "code",
<<<<<<< HEAD
   "execution_count": 8,
=======
   "execution_count": 24,
>>>>>>> 38be372873561f30d05e3d730080d4260ed46241
   "id": "c457a397",
   "metadata": {},
   "outputs": [
    {
     "name": "stdout",
     "output_type": "stream",
     "text": [
      "100\n",
      "100\n",
      "100\n",
      "100\n",
      "100\n"
     ]
    }
   ],
   "source": [
    "print(variety.size)\n",
    "print(sepalLength.size)\n",
    "print(sepalWidth.size)\n",
    "print(petalLength.size)\n",
    "print(petalWidth.size)"
   ]
  },
  {
   "cell_type": "code",
<<<<<<< HEAD
   "execution_count": 9,
=======
   "execution_count": 56,
>>>>>>> 38be372873561f30d05e3d730080d4260ed46241
   "id": "1287f6d6",
   "metadata": {},
   "outputs": [],
   "source": [
    "numEpocas =  10000             \n",
    "q = variety.size                         \n",
    "eta = 0.01             \n",
    "m = 4                  \n",
    "N = 8                  \n",
    "L = 1    \n",
    "bias = 1\n",
    "\n",
    "d = np.array(variety)\n",
    "W1 = np.random.random((N, m + 1)) \n",
    "W2 = np.random.random((L, N + 1)) \n",
    "E = np.zeros(q)\n",
    "Etm = np.zeros(numEpocas) \n",
    "X = np.vstack((sepalLength, sepalWidth, petalLength, petalWidth))"
   ]
  },
  {
   "cell_type": "code",
<<<<<<< HEAD
   "execution_count": 31,
   "id": "bddf7144",
   "metadata": {},
   "outputs": [
    {
     "data": {
      "text/plain": [
       "10000"
      ]
     },
     "metadata": {},
     "output_type": "display_data"
    },
    {
     "ename": "ValueError",
     "evalue": "shapes (100,100) and (1,) not aligned: 100 (dim 1) != 1 (dim 0)",
     "output_type": "error",
     "traceback": [
      "\u001b[1;31m---------------------------------------------------------------------------\u001b[0m",
      "\u001b[1;31mValueError\u001b[0m                                Traceback (most recent call last)",
      "\u001b[1;32m<ipython-input-31-f875b9ca272c>\u001b[0m in \u001b[0;36m<module>\u001b[1;34m\u001b[0m\n\u001b[0;32m      8\u001b[0m         \u001b[0mdisplay\u001b[0m\u001b[1;33m(\u001b[0m\u001b[0mnp\u001b[0m\u001b[1;33m.\u001b[0m\u001b[0mdiag\u001b[0m\u001b[1;33m(\u001b[0m\u001b[0me\u001b[0m\u001b[1;33m)\u001b[0m\u001b[1;33m.\u001b[0m\u001b[0msize\u001b[0m\u001b[1;33m)\u001b[0m\u001b[1;33m\u001b[0m\u001b[1;33m\u001b[0m\u001b[0m\n\u001b[0;32m      9\u001b[0m         \u001b[0mE\u001b[0m\u001b[1;33m[\u001b[0m\u001b[0mj\u001b[0m\u001b[1;33m]\u001b[0m \u001b[1;33m=\u001b[0m \u001b[1;33m(\u001b[0m\u001b[0me\u001b[0m\u001b[1;33m.\u001b[0m\u001b[0mtranspose\u001b[0m\u001b[1;33m(\u001b[0m\u001b[1;33m)\u001b[0m\u001b[1;33m.\u001b[0m\u001b[0mdot\u001b[0m\u001b[1;33m(\u001b[0m\u001b[0me\u001b[0m\u001b[1;33m)\u001b[0m\u001b[1;33m)\u001b[0m\u001b[1;33m/\u001b[0m\u001b[1;36m2\u001b[0m\u001b[1;33m\u001b[0m\u001b[1;33m\u001b[0m\u001b[0m\n\u001b[1;32m---> 10\u001b[1;33m         \u001b[0mdelta2\u001b[0m \u001b[1;33m=\u001b[0m \u001b[0mnp\u001b[0m\u001b[1;33m.\u001b[0m\u001b[0mdiag\u001b[0m\u001b[1;33m(\u001b[0m\u001b[0me\u001b[0m\u001b[1;33m)\u001b[0m\u001b[1;33m.\u001b[0m\u001b[0mdot\u001b[0m\u001b[1;33m(\u001b[0m\u001b[1;33m(\u001b[0m\u001b[1;36m1\u001b[0m \u001b[1;33m-\u001b[0m \u001b[0mY\u001b[0m\u001b[1;33m*\u001b[0m\u001b[0mY\u001b[0m\u001b[1;33m)\u001b[0m\u001b[1;33m)\u001b[0m\u001b[1;33m\u001b[0m\u001b[1;33m\u001b[0m\u001b[0m\n\u001b[0m\u001b[0;32m     11\u001b[0m         \u001b[0mvdelta2\u001b[0m \u001b[1;33m=\u001b[0m \u001b[1;33m(\u001b[0m\u001b[0mW2\u001b[0m\u001b[1;33m.\u001b[0m\u001b[0mtranspose\u001b[0m\u001b[1;33m(\u001b[0m\u001b[1;33m)\u001b[0m\u001b[1;33m)\u001b[0m\u001b[1;33m.\u001b[0m\u001b[0mdot\u001b[0m\u001b[1;33m(\u001b[0m\u001b[0mdelta2\u001b[0m\u001b[1;33m)\u001b[0m\u001b[1;33m\u001b[0m\u001b[1;33m\u001b[0m\u001b[0m\n\u001b[0;32m     12\u001b[0m         \u001b[0mdelta1\u001b[0m \u001b[1;33m=\u001b[0m \u001b[0mnp\u001b[0m\u001b[1;33m.\u001b[0m\u001b[0mdiag\u001b[0m\u001b[1;33m(\u001b[0m\u001b[1;36m1\u001b[0m \u001b[1;33m-\u001b[0m \u001b[0mo1b\u001b[0m\u001b[1;33m*\u001b[0m\u001b[0mo1b\u001b[0m\u001b[1;33m)\u001b[0m\u001b[1;33m.\u001b[0m\u001b[0mdot\u001b[0m\u001b[1;33m(\u001b[0m\u001b[0mvdelta2\u001b[0m\u001b[1;33m)\u001b[0m\u001b[1;33m\u001b[0m\u001b[1;33m\u001b[0m\u001b[0m\n",
      "\u001b[1;31mValueError\u001b[0m: shapes (100,100) and (1,) not aligned: 100 (dim 1) != 1 (dim 0)"
     ]
    }
   ],
=======
   "execution_count": 57,
   "id": "bddf7144",
   "metadata": {},
   "outputs": [],
>>>>>>> 38be372873561f30d05e3d730080d4260ed46241
   "source": [
    "for i in range(numEpocas):\n",
    "    for j in range(q): \n",
    "        Xb = np.hstack((bias, X[:,j]))  \n",
    "        o1 = np.tanh(W1.dot(Xb))\n",
    "        o1b = np.insert(o1, 0, bias)\n",
<<<<<<< HEAD
    "        Y = np.tanh(W2.dot(o1b))\n",
    "        e = d[j] - Y    \n",
=======
    "        Y = np.tanh(W2.dot(o1b))                                     \n",
    "        e = d[0,j] - Y                   \n",
>>>>>>> 38be372873561f30d05e3d730080d4260ed46241
    "        E[j] = (e.transpose().dot(e))/2\n",
    "        delta2 = np.diag(e).dot((1 - Y*Y))                               \n",
    "        vdelta2 = (W2.transpose()).dot(delta2)                           \n",
    "        delta1 = np.diag(1 - o1b*o1b).dot(vdelta2)                       \n",
    "        W1 = W1 + eta*(np.outer(delta1[1:], Xb))\n",
    "        W2 = W2 + eta*(np.outer(delta2, o1b))\n",
    "    Etm[i] = E.mean()"
   ]
  },
  {
   "cell_type": "code",
<<<<<<< HEAD
   "execution_count": null,
=======
   "execution_count": 58,
   "id": "81a19231",
   "metadata": {},
   "outputs": [],
   "source": [
    "Error_Test = np.zeros(q)\n",
    "\n",
    "for i in range(q):\n",
    "    # Insere o bias no vetor de entrada.\n",
    "    Xb = np.hstack((bias, X[:,i]))\n",
    "\n",
    "    # Saída da Camada Escondida.\n",
    "    o1 = np.tanh(W1.dot(Xb))            # Equações (1) e (2) juntas.      \n",
    "    #print(o1)\n",
    "    \n",
    "    # Incluindo o bias. Saída da camada escondida é a entrada da camada\n",
    "    # de saída.\n",
    "    o1b = np.insert(o1, 0, bias)\n",
    "\n",
    "    # Neural network output\n",
    "    Y = np.tanh(W2.dot(o1b))            # Equações (3) e (4) juntas.\n",
    "    #print(Y)\n",
    "    \n",
    "    Error_Test[i] = d[0,i] - (Y)"
   ]
  },
  {
   "cell_type": "code",
   "execution_count": 60,
   "id": "a2122ad2",
   "metadata": {},
   "outputs": [
    {
     "name": "stdout",
     "output_type": "stream",
     "text": [
      "[ 0.00344883  0.00321873  0.00320647  0.00327483  0.00359513  0.0031249\n",
      "  0.00348389  0.00335604  0.00320734  0.00338449  0.00357045  0.00324277\n",
      "  0.00310903  0.00320637  0.00350921  0.00312361  0.00326131  0.00319987\n",
      "  0.00325153  0.00376769  0.00333457  0.00321802  0.0030932   0.00357545\n",
      "  0.00312624  0.003392   -0.00295406  0.00391402  0.00386373  0.00359495\n",
      " -0.00299927 -0.00323251  0.00368849  0.00346992  0.0032416   0.00349412\n",
      "  0.0061601   0.00320607  0.00363178  0.00466461  0.00333711  0.00370652\n",
      " -0.00297521 -0.00309253  0.00324448  0.00335131  0.0037026   0.00412737\n",
      "  0.0032712  -0.00334249 -0.00307598 -0.00313282 -0.00352413 -0.00356313\n",
      "  0.00319018 -0.0031484  -0.00300476 -0.00327313 -0.00325072  0.00338643\n",
      " -0.00394834 -0.00320051 -0.00320938 -0.00337781 -0.00331041 -0.0032155\n",
      " -0.00337401 -0.00510257  0.00782864 -0.00318399 -0.00454763 -0.00324686\n",
      " -0.00401739 -0.00340663 -0.00337601 -0.00325256 -0.00424007  0.00476082\n",
      "  0.0036652  -0.00313365 -0.00382714 -0.00360346 -0.00376903  0.00498068\n",
      " -0.00446273 -0.00363656 -0.00417993 -0.00413712 -0.00360638 -0.00403871\n",
      " -0.00344636 -0.00304588 -0.00358333 -0.0036442  -0.00404518 -0.00804876\n",
      " -0.00356946 -0.00386115 -0.0043973  -0.00338036]\n",
      "[[-1. -1. -1. -1. -1. -1. -1. -1. -1. -1. -1. -1. -1. -1. -1. -1. -1. -1.\n",
      "  -1. -1. -1. -1. -1. -1. -1. -1.  1. -1. -1. -1.  1.  1. -1. -1. -1. -1.\n",
      "  -1. -1. -1. -1. -1. -1.  1.  1. -1. -1. -1. -1. -1.  1.  1.  1.  1.  1.\n",
      "  -1.  1.  1.  1.  1. -1.  1.  1.  1.  1.  1.  1.  1.  1. -1.  1.  1.  1.\n",
      "   1.  1.  1.  1.  1. -1. -1.  1.  1.  1.  1. -1.  1.  1.  1.  1.  1.  1.\n",
      "   1.  1.  1.  1.  1.  1.  1.  1.  1.  1.]]\n"
     ]
    }
   ],
   "source": [
    "print(Error_Test)\n",
    "print(np.round(Error_Test) - d)"
   ]
  },
  {
   "cell_type": "code",
   "execution_count": 18,
>>>>>>> 38be372873561f30d05e3d730080d4260ed46241
   "id": "c16a4dd3",
   "metadata": {},
   "outputs": [],
   "source": [
    "def funcaoAtivacao(valor):\n",
    "    if valor < 0.0:\n",
    "        return(-1)\n",
    "    else:\n",
    "        return(1)"
   ]
  },
  {
   "cell_type": "code",
   "execution_count": null,
   "id": "11a5d237",
   "metadata": {},
   "outputs": [],
   "source": [
    "# Desenvolvendo o treinamento\n",
    "for i in range(numEpocas):\n",
    "    for j in range(q):\n",
    "        \n",
    "        # Inserindo o bias\n",
    "        # : significa que o irá usar todas as linhas até o índice K???\n",
    "        xb = np.hstack((bias, X[:,k]))\n",
    "        \n",
    "        # Produto escalar dos vetores de entrada (campo induzido, vetor resultante...)\n",
    "        V = np.dot(vetorZero, xb)\n",
    "        \n",
    "        # Saída\n",
    "        # Porque duplo parênteses???\n",
    "        Yr = funcaoAtivacao((V))\n",
    "        \n",
    "        # Cálculo de erro\n",
    "#         e[k] = Y[k] - Yr\n",
    "        \n",
    "        # Treinamento da rede\n",
    "        vetorZero = vetorZero + eta * e[k] * xb"
   ]
  },
  {
   "cell_type": "code",
<<<<<<< HEAD
   "execution_count": null,
   "id": "214f1546",
   "metadata": {},
   "outputs": [],
=======
   "execution_count": 40,
   "id": "214f1546",
   "metadata": {},
   "outputs": [
    {
     "ename": "TypeError",
     "evalue": "scatter() missing 1 required positional argument: 'y'",
     "output_type": "error",
     "traceback": [
      "\u001b[1;31m---------------------------------------------------------------------------\u001b[0m",
      "\u001b[1;31mTypeError\u001b[0m                                 Traceback (most recent call last)",
      "\u001b[1;32m<ipython-input-40-48a7e5d91091>\u001b[0m in \u001b[0;36m<module>\u001b[1;34m\u001b[0m\n\u001b[1;32m----> 1\u001b[1;33m \u001b[0mplt\u001b[0m\u001b[1;33m.\u001b[0m\u001b[0mscatter\u001b[0m\u001b[1;33m(\u001b[0m\u001b[0mpetalWidth\u001b[0m\u001b[1;33m)\u001b[0m\u001b[1;33m\u001b[0m\u001b[1;33m\u001b[0m\u001b[0m\n\u001b[0m\u001b[0;32m      2\u001b[0m \u001b[0mplt\u001b[0m\u001b[1;33m.\u001b[0m\u001b[0mshow\u001b[0m\u001b[1;33m(\u001b[0m\u001b[1;33m)\u001b[0m\u001b[1;33m\u001b[0m\u001b[1;33m\u001b[0m\u001b[0m\n",
      "\u001b[1;31mTypeError\u001b[0m: scatter() missing 1 required positional argument: 'y'"
     ]
    }
   ],
>>>>>>> 38be372873561f30d05e3d730080d4260ed46241
   "source": [
    "plt.scatter(petalWidth)\n",
    "plt.show()"
   ]
  },
  {
   "cell_type": "code",
   "execution_count": null,
   "id": "6a65c103",
   "metadata": {},
   "outputs": [],
   "source": [
    "display(vetorZero)"
   ]
<<<<<<< HEAD
=======
  },
  {
   "cell_type": "code",
   "execution_count": 61,
   "id": "df3201f6",
   "metadata": {},
   "outputs": [
    {
     "data": {
      "text/plain": [
       "array([[ 0.68681216,  0.36331082,  0.13490224,  0.5876714 ,  0.41505286],\n",
       "       [ 0.06400276,  0.88822841,  0.49605536,  0.62900439,  0.17703138],\n",
       "       [ 0.33408227,  0.93312248,  0.24755261,  0.39119654,  0.05534155],\n",
       "       [ 0.24285211, -0.30857667, -0.81729672,  1.09708874,  1.23675329],\n",
       "       [ 0.66190038,  0.12637803,  0.75098703,  0.29776069,  0.63243877],\n",
       "       [ 0.36468789,  0.05537427,  0.47213816,  0.66946635,  0.5089599 ],\n",
       "       [ 0.79417432,  0.58145645,  0.39538171,  0.62685841,  0.56673661],\n",
       "       [ 0.83372416,  0.53142756,  0.2528946 ,  0.27428203,  0.28611551]])"
      ]
     },
     "metadata": {},
     "output_type": "display_data"
    },
    {
     "data": {
      "text/plain": [
       "array([[ 0.15735593, -0.4102266 ,  0.32495543,  0.16511644,  3.25301597,\n",
       "        -0.10133917,  0.35412764, -0.02670855, -0.47768946]])"
      ]
     },
     "metadata": {},
     "output_type": "display_data"
    }
   ],
   "source": [
    "display(W1, W2)"
   ]
  },
  {
   "cell_type": "code",
   "execution_count": null,
   "id": "a78eeeea",
   "metadata": {},
   "outputs": [],
   "source": []
>>>>>>> 38be372873561f30d05e3d730080d4260ed46241
  }
 ],
 "metadata": {
  "kernelspec": {
   "display_name": "Python 3",
   "language": "python",
   "name": "python3"
  },
  "language_info": {
   "codemirror_mode": {
    "name": "ipython",
    "version": 3
   },
   "file_extension": ".py",
   "mimetype": "text/x-python",
   "name": "python",
   "nbconvert_exporter": "python",
   "pygments_lexer": "ipython3",
   "version": "3.8.8"
  }
 },
 "nbformat": 4,
 "nbformat_minor": 5
}
