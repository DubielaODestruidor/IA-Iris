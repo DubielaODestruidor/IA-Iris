{
 "cells": [
  {
   "cell_type": "code",
   "execution_count": 1,
   "id": "fb51e3da",
   "metadata": {},
   "outputs": [],
   "source": [
    "import numpy as np\n",
    "import pandas as pd\n",
    "import matplotlib.pyplot as plt"
   ]
  },
  {
   "cell_type": "code",
   "execution_count": 2,
   "id": "197a1c8c",
   "metadata": {
    "scrolled": false
   },
   "outputs": [
    {
     "data": {
      "text/html": [
       "<div>\n",
       "<style scoped>\n",
       "    .dataframe tbody tr th:only-of-type {\n",
       "        vertical-align: middle;\n",
       "    }\n",
       "\n",
       "    .dataframe tbody tr th {\n",
       "        vertical-align: top;\n",
       "    }\n",
       "\n",
       "    .dataframe thead th {\n",
       "        text-align: right;\n",
       "    }\n",
       "</style>\n",
       "<table border=\"1\" class=\"dataframe\">\n",
       "  <thead>\n",
       "    <tr style=\"text-align: right;\">\n",
       "      <th></th>\n",
       "      <th>sepal.length</th>\n",
       "      <th>sepal.width</th>\n",
       "      <th>petal.length</th>\n",
       "      <th>petal.width</th>\n",
       "      <th>variety</th>\n",
       "    </tr>\n",
       "  </thead>\n",
       "  <tbody>\n",
       "    <tr>\n",
       "      <th>0</th>\n",
       "      <td>7.0</td>\n",
       "      <td>3.2</td>\n",
       "      <td>4.7</td>\n",
       "      <td>1.4</td>\n",
       "      <td>Versicolor</td>\n",
       "    </tr>\n",
       "    <tr>\n",
       "      <th>1</th>\n",
       "      <td>6.9</td>\n",
       "      <td>3.1</td>\n",
       "      <td>4.9</td>\n",
       "      <td>1.5</td>\n",
       "      <td>Versicolor</td>\n",
       "    </tr>\n",
       "    <tr>\n",
       "      <th>2</th>\n",
       "      <td>6.8</td>\n",
       "      <td>2.8</td>\n",
       "      <td>4.8</td>\n",
       "      <td>1.4</td>\n",
       "      <td>Versicolor</td>\n",
       "    </tr>\n",
       "    <tr>\n",
       "      <th>3</th>\n",
       "      <td>6.7</td>\n",
       "      <td>3.1</td>\n",
       "      <td>4.7</td>\n",
       "      <td>1.5</td>\n",
       "      <td>Versicolor</td>\n",
       "    </tr>\n",
       "    <tr>\n",
       "      <th>4</th>\n",
       "      <td>6.7</td>\n",
       "      <td>3.1</td>\n",
       "      <td>4.4</td>\n",
       "      <td>1.4</td>\n",
       "      <td>Versicolor</td>\n",
       "    </tr>\n",
       "  </tbody>\n",
       "</table>\n",
       "</div>"
      ],
      "text/plain": [
       "   sepal.length  sepal.width  petal.length  petal.width     variety\n",
       "0           7.0          3.2           4.7          1.4  Versicolor\n",
       "1           6.9          3.1           4.9          1.5  Versicolor\n",
       "2           6.8          2.8           4.8          1.4  Versicolor\n",
       "3           6.7          3.1           4.7          1.5  Versicolor\n",
       "4           6.7          3.1           4.4          1.4  Versicolor"
      ]
     },
     "execution_count": 2,
     "metadata": {},
     "output_type": "execute_result"
    }
   ],
   "source": [
    "# Lendo a tabela\n",
    "tabela = pd.read_excel('iris.xlsx')\n",
    "\n",
    "# Mostrando os dados\n",
    "tabela.head()"
   ]
  },
  {
   "cell_type": "code",
   "execution_count": 3,
   "id": "1e354059",
   "metadata": {},
   "outputs": [
    {
     "data": {
      "text/plain": [
       "array([[4.7, 4.9, 4.8, 4.7, 4.4, 5. , 4.4, 4.6, 4.6, 4.5, 4.3, 4.7, 4.9,\n",
       "        4.4, 4.3, 4.5, 4.6, 4.7, 4.7, 4. , 4.5, 4.5, 5.1, 4. , 4.8, 4.2,\n",
       "        1.2, 4.1, 3.9, 4. , 1.5, 1.7, 4.2, 4.2, 4.5, 4.1, 3.5, 4.5, 4.1,\n",
       "        3.6, 4.2, 3.9, 1.4, 1.3, 4.4, 4. , 3.8, 3.7, 4. , 1.7, 1.3, 1.5,\n",
       "        1.7, 1.5, 4.5, 1.5, 1.5, 1.5, 1.4, 3.9, 1.9, 1.6, 1.5, 1.5, 1.4,\n",
       "        1.4, 1.5, 1.7, 3. , 1.4, 1.6, 1.3, 1.6, 1.5, 1.4, 1.2, 1.6, 3.3,\n",
       "        3.5, 1.4, 1.5, 1.5, 1.4, 3.3, 1.9, 1.6, 1.6, 1.4, 1.4, 1.6, 1.3,\n",
       "        1. , 1.4, 1.4, 1.5, 1.3, 1.3, 1.3, 1.4, 1.1]])"
      ]
     },
     "metadata": {},
     "output_type": "display_data"
    }
   ],
   "source": [
    "# Preparando os dados do comprimento da pétala\n",
    "\n",
    "petalLength = pd.read_excel('iris.xlsx', usecols=[2])\n",
    "petalLength = np.array(petalLength)\n",
    "petalLength = np.transpose(petalLength)\n",
    "\n",
    "display(petalLength)"
   ]
  },
  {
   "cell_type": "code",
   "execution_count": 4,
   "id": "e10a0add",
   "metadata": {},
   "outputs": [
    {
     "data": {
      "text/plain": [
       "array([[1.4, 1.5, 1.4, 1.5, 1.4, 1.7, 1.4, 1.3, 1.5, 1.5, 1.3, 1.6, 1.5,\n",
       "        1.3, 1.3, 1.5, 1.4, 1.4, 1.2, 1.3, 1.6, 1.5, 1.6, 1. , 1.8, 1.5,\n",
       "        0.2, 1. , 1.2, 1.2, 0.4, 0.3, 1.2, 1.3, 1.3, 1.3, 1. , 1.5, 1.3,\n",
       "        1.3, 1.3, 1.1, 0.2, 0.2, 1.2, 1.3, 1.1, 1. , 1.3, 0.4, 0.4, 0.2,\n",
       "        0.2, 0.4, 1.5, 0.2, 0.1, 0.2, 0.2, 1.4, 0.4, 0.2, 0.3, 0.4, 0.3,\n",
       "        0.2, 0.2, 0.5, 1.1, 0.2, 0.6, 0.3, 0.4, 0.2, 0.2, 0.2, 0.2, 1. ,\n",
       "        1. , 0.1, 0.2, 0.1, 0.2, 1. , 0.2, 0.2, 0.2, 0.3, 0.1, 0.2, 0.2,\n",
       "        0.2, 0.3, 0.2, 0.2, 0.3, 0.2, 0.2, 0.2, 0.1]])"
      ]
     },
     "metadata": {},
     "output_type": "display_data"
    }
   ],
   "source": [
    "# Preparando os dados da largura da pétala\n",
    "\n",
    "petalWidth = pd.read_excel('iris.xlsx', usecols=[3])\n",
    "petalWidth = np.array(petalWidth)\n",
    "petalWidth = np.transpose(petalWidth)\n",
    "\n",
    "display(petalWidth)"
   ]
  },
  {
   "cell_type": "code",
   "execution_count": 5,
   "id": "c43b5ec8",
   "metadata": {},
   "outputs": [
    {
     "data": {
      "text/plain": [
       "array([[7. , 6.9, 6.8, 6.7, 6.7, 6.7, 6.6, 6.6, 6.5, 6.4, 6.4, 6.3, 6.3,\n",
       "        6.3, 6.2, 6.2, 6.1, 6.1, 6.1, 6.1, 6. , 6. , 6. , 6. , 5.9, 5.9,\n",
       "        5.8, 5.8, 5.8, 5.8, 5.7, 5.7, 5.7, 5.7, 5.7, 5.7, 5.7, 5.6, 5.6,\n",
       "        5.6, 5.6, 5.6, 5.5, 5.5, 5.5, 5.5, 5.5, 5.5, 5.5, 5.4, 5.4, 5.4,\n",
       "        5.4, 5.4, 5.4, 5.3, 5.2, 5.2, 5.2, 5.2, 5.1, 5.1, 5.1, 5.1, 5.1,\n",
       "        5.1, 5.1, 5.1, 5.1, 5. , 5. , 5. , 5. , 5. , 5. , 5. , 5. , 5. ,\n",
       "        5. , 4.9, 4.9, 4.9, 4.9, 4.9, 4.8, 4.8, 4.8, 4.8, 4.8, 4.7, 4.7,\n",
       "        4.6, 4.6, 4.6, 4.6, 4.5, 4.4, 4.4, 4.4, 4.3]])"
      ]
     },
     "metadata": {},
     "output_type": "display_data"
    }
   ],
   "source": [
    "# Preparando os dados do comprimento da sépala\n",
    "\n",
    "sepalLength = pd.read_excel('iris.xlsx', usecols=[0])\n",
    "sepalLength = np.array(sepalLength)\n",
    "sepalLength = np.transpose(sepalLength)\n",
    "\n",
    "display(sepalLength)"
   ]
  },
  {
   "cell_type": "code",
   "execution_count": 6,
   "id": "0a80f726",
   "metadata": {},
   "outputs": [
    {
     "data": {
      "text/plain": [
       "array([[3.2, 3.1, 2.8, 3.1, 3.1, 3. , 3. , 2.9, 2.8, 3.2, 2.9, 3.3, 2.5,\n",
       "        2.3, 2.9, 2.2, 3. , 2.9, 2.8, 2.8, 3.4, 2.9, 2.7, 2.2, 3.2, 3. ,\n",
       "        4. , 2.7, 2.7, 2.6, 4.4, 3.8, 3. , 2.9, 2.8, 2.8, 2.6, 3. , 3. ,\n",
       "        2.9, 2.7, 2.5, 4.2, 3.5, 2.6, 2.5, 2.4, 2.4, 2.3, 3.9, 3.9, 3.7,\n",
       "        3.4, 3.4, 3. , 3.7, 4.1, 3.5, 3.4, 2.7, 3.8, 3.8, 3.8, 3.7, 3.5,\n",
       "        3.5, 3.4, 3.3, 2.5, 3.6, 3.5, 3.5, 3.4, 3.4, 3.3, 3.2, 3. , 2.3,\n",
       "        2. , 3.6, 3.1, 3.1, 3. , 2.4, 3.4, 3.4, 3.1, 3. , 3. , 3.2, 3.2,\n",
       "        3.6, 3.4, 3.2, 3.1, 2.3, 3.2, 3. , 2.9, 3. ]])"
      ]
     },
     "metadata": {},
     "output_type": "display_data"
    }
   ],
   "source": [
    "# Preparando os dados do largura da pétala\n",
    "\n",
    "sepalWidth = pd.read_excel('iris.xlsx', usecols=[1])\n",
    "sepalWidth = np.array(sepalWidth)\n",
    "sepalWidth = np.transpose(sepalWidth)\n",
    "\n",
    "display(sepalWidth)"
   ]
  },
  {
   "cell_type": "code",
   "execution_count": 7,
   "id": "db0fcecd",
   "metadata": {},
   "outputs": [
    {
     "data": {
      "text/plain": [
       "array([[ 1,  1,  1,  1,  1,  1,  1,  1,  1,  1,  1,  1,  1,  1,  1,  1,\n",
       "         1,  1,  1,  1,  1,  1,  1,  1,  1,  1, -1,  1,  1,  1, -1, -1,\n",
       "         1,  1,  1,  1,  1,  1,  1,  1,  1,  1, -1, -1,  1,  1,  1,  1,\n",
       "         1, -1, -1, -1, -1, -1,  1, -1, -1, -1, -1,  1, -1, -1, -1, -1,\n",
       "        -1, -1, -1, -1,  1, -1, -1, -1, -1, -1, -1, -1, -1,  1,  1, -1,\n",
       "        -1, -1, -1,  1, -1, -1, -1, -1, -1, -1, -1, -1, -1, -1, -1, -1,\n",
       "        -1, -1, -1, -1]], dtype=int64)"
      ]
     },
     "metadata": {},
     "output_type": "display_data"
    }
   ],
   "source": [
    "# Saida\n",
    "\n",
    "variety = pd.read_excel('iris.xlsx', usecols=[4])\n",
    "variety.replace(['Versicolor', 'Setosa'], [1, -1], inplace=True)\n",
    "variety = np.array(variety)\n",
    "variety = np.transpose(variety)\n",
    "\n",
    "display(variety)"
   ]
  },
  {
   "cell_type": "code",
   "execution_count": 8,
   "id": "c457a397",
   "metadata": {},
   "outputs": [
    {
     "name": "stdout",
     "output_type": "stream",
     "text": [
      "100\n",
      "100\n",
      "100\n",
      "100\n",
      "100\n"
     ]
    }
   ],
   "source": [
    "print(variety.size)\n",
    "print(sepalLength.size)\n",
    "print(sepalWidth.size)\n",
    "print(petalLength.size)\n",
    "print(petalWidth.size)"
   ]
  },
  {
   "cell_type": "code",
   "execution_count": 9,
   "id": "1287f6d6",
   "metadata": {},
   "outputs": [],
   "source": [
    "numEpocas =  10000             \n",
    "q = variety.size                         \n",
    "eta = 0.01             \n",
    "m = 4                  \n",
    "N = 8                  \n",
    "L = 1    \n",
    "bias = 1\n",
    "\n",
    "d = np.array(variety)\n",
    "W1 = np.random.random((N, m + 1)) \n",
    "W2 = np.random.random((L, N + 1)) \n",
    "E = np.zeros(q)\n",
    "Etm = np.zeros(numEpocas) \n",
    "X = np.vstack((sepalLength, sepalWidth, petalLength, petalWidth))"
   ]
  },
  {
   "cell_type": "code",
   "execution_count": 10,
   "id": "bddf7144",
   "metadata": {},
   "outputs": [],
   "source": [
    "for i in range(numEpocas):\n",
    "    for j in range(q): \n",
    "        Xb = np.hstack((bias, X[:,j]))  \n",
    "        o1 = np.tanh(W1.dot(Xb))                                                                                           \n",
    "        o1b = np.insert(o1, 0, bias)\n",
    "        Y = np.tanh(W2.dot(o1b))                                     \n",
    "        e = d[0,j] - Y                   \n",
    "        E[j] = (e.transpose().dot(e))/2\n",
    "        delta2 = np.diag(e).dot((1 - Y*Y))                               \n",
    "        vdelta2 = (W2.transpose()).dot(delta2)                           \n",
    "        delta1 = np.diag(1 - o1b*o1b).dot(vdelta2)                       \n",
    "        W1 = W1 + eta*(np.outer(delta1[1:], Xb))\n",
    "        W2 = W2 + eta*(np.outer(delta2, o1b))\n",
    "    Etm[i] = E.mean()"
   ]
  },
  {
   "cell_type": "code",
   "execution_count": 11,
   "id": "81a19231",
   "metadata": {},
   "outputs": [],
   "source": [
    "Error_Test = np.zeros(q)\n",
    "\n",
    "for i in range(q):\n",
    "    # Insere o bias no vetor de entrada.\n",
    "    Xb = np.hstack((bias, X[:,i]))\n",
    "\n",
    "    # Saída da Camada Escondida.\n",
    "    o1 = np.tanh(W1.dot(Xb))            # Equações (1) e (2) juntas.      \n",
    "    #print(o1)\n",
    "    \n",
    "    # Incluindo o bias. Saída da camada escondida é a entrada da camada\n",
    "    # de saída.\n",
    "    o1b = np.insert(o1, 0, bias)\n",
    "\n",
    "    # Neural network output\n",
    "    Y = np.tanh(W2.dot(o1b))            # Equações (3) e (4) juntas.\n",
    "    #print(Y)\n",
    "    \n",
    "    Error_Test[i] = d[0,i] - (Y)"
   ]
  },
  {
   "cell_type": "code",
   "execution_count": 12,
   "id": "a2122ad2",
   "metadata": {},
   "outputs": [
    {
     "name": "stdout",
     "output_type": "stream",
     "text": [
      "[ 0.00336386  0.00318624  0.00316989  0.00324198  0.00351594  0.00311639\n",
      "  0.00342101  0.00328433  0.00318565  0.00335983  0.00348102  0.00323426\n",
      "  0.00309855  0.00317218  0.00343833  0.003113    0.00323198  0.00317549\n",
      "  0.00319921  0.003698    0.00334667  0.00320592  0.00308721  0.00342255\n",
      "  0.00312895  0.0033978  -0.00293356  0.00368801  0.0037684   0.00351602\n",
      " -0.00296483 -0.00321966  0.00360022  0.00343159  0.00321185  0.00345829\n",
      "  0.00562881  0.00320136  0.00360268  0.0047774   0.00330779  0.00359322\n",
      " -0.00295201 -0.00307638  0.00320826  0.00332929  0.00360208  0.00391818\n",
      "  0.00325058 -0.00328513 -0.00302803 -0.00311827 -0.00357453 -0.00349438\n",
      "  0.00318805 -0.00313147 -0.00298681 -0.00326271 -0.00323642  0.00340656\n",
      " -0.00386427 -0.00318065 -0.00316351 -0.00329412 -0.00326098 -0.00319336\n",
      " -0.00336685 -0.00481311  0.00839331 -0.00315567 -0.00414779 -0.00319196\n",
      " -0.00389115 -0.00339471 -0.00335882 -0.00322498 -0.00435525  0.00463192\n",
      "  0.00357681 -0.00311983 -0.00384836 -0.0036668  -0.0037776   0.00487837\n",
      " -0.00460758 -0.00362965 -0.00423742 -0.00405573 -0.00365337 -0.00405724\n",
      " -0.00340634 -0.00300588 -0.0034861  -0.00360435 -0.00403629 -0.00791137\n",
      " -0.00350282 -0.00379548 -0.0043587  -0.00334643]\n",
      "[[-1. -1. -1. -1. -1. -1. -1. -1. -1. -1. -1. -1. -1. -1. -1. -1. -1. -1.\n",
      "  -1. -1. -1. -1. -1. -1. -1. -1.  1. -1. -1. -1.  1.  1. -1. -1. -1. -1.\n",
      "  -1. -1. -1. -1. -1. -1.  1.  1. -1. -1. -1. -1. -1.  1.  1.  1.  1.  1.\n",
      "  -1.  1.  1.  1.  1. -1.  1.  1.  1.  1.  1.  1.  1.  1. -1.  1.  1.  1.\n",
      "   1.  1.  1.  1.  1. -1. -1.  1.  1.  1.  1. -1.  1.  1.  1.  1.  1.  1.\n",
      "   1.  1.  1.  1.  1.  1.  1.  1.  1.  1.]]\n"
     ]
    }
   ],
   "source": [
    "print(Error_Test)\n",
    "print(np.round(Error_Test) - d)"
   ]
  },
  {
   "cell_type": "code",
   "execution_count": 13,
   "id": "c16a4dd3",
   "metadata": {},
   "outputs": [],
   "source": [
    "def funcaoAtivacao(valor):\n",
    "    if valor < 0.0:\n",
    "        return(-1)\n",
    "    else:\n",
    "        return(1)"
   ]
  },
  {
   "cell_type": "code",
   "execution_count": 14,
   "id": "6f15c7fa",
   "metadata": {},
   "outputs": [],
   "source": [
    "vetorZero = np.zeros(5)"
   ]
  },
  {
   "cell_type": "code",
   "execution_count": 15,
   "id": "11a5d237",
   "metadata": {},
   "outputs": [],
   "source": [
    "# Desenvolvendo o treinamento\n",
    "for i in range(numEpocas):\n",
    "    for j in range(q):\n",
    "        \n",
    "        # Inserindo o bias\n",
    "        # : significa que o irá usar todas as linhas até o índice K???\n",
    "        xb = np.hstack((bias, X[:,j]))\n",
    "        \n",
    "        # Produto escalar dos vetores de entrada (campo induzido, vetor resultante...)\n",
    "        V = np.dot(vetorZero, xb)\n",
    "        \n",
    "        # Saída\n",
    "        # Porque duplo parênteses???\n",
    "        Yr = funcaoAtivacao((V))\n",
    "        \n",
    "        # Cálculo de erro\n",
    "        E[j] = d[0, j] - Yr\n",
    "        \n",
    "        # Treinamento da rede\n",
    "        vetorZero = vetorZero + eta * E[j] * xb"
   ]
  },
  {
   "cell_type": "code",
   "execution_count": 18,
   "id": "df3201f6",
   "metadata": {},
   "outputs": [
    {
     "data": {
      "text/plain": [
       "array([[-1., -1., -1., -1., -1., -1., -1., -1., -1., -1., -1., -1., -1.,\n",
       "        -1., -1., -1., -1., -1., -1., -1., -1., -1., -1., -1., -1., -1.,\n",
       "         1., -1., -1., -1.,  1.,  1., -1., -1., -1., -1., -1., -1., -1.,\n",
       "        -1., -1., -1.,  1.,  1., -1., -1., -1., -1., -1.,  1.,  1.,  1.,\n",
       "         1.,  1., -1.,  1.,  1.,  1.,  1., -1.,  1.,  1.,  1.,  1.,  1.,\n",
       "         1.,  1.,  1., -1.,  1.,  1.,  1.,  1.,  1.,  1.,  1.,  1., -1.,\n",
       "        -1.,  1.,  1.,  1.,  1., -1.,  1.,  1.,  1.,  1.,  1.,  1.,  1.,\n",
       "         1.,  1.,  1.,  1.,  1.,  1.,  1.,  1.,  1.]])"
      ]
     },
     "metadata": {},
     "output_type": "display_data"
    }
   ],
   "source": [
    "display(E - d)"
   ]
  }
 ],
 "metadata": {
  "kernelspec": {
   "display_name": "Python 3",
   "language": "python",
   "name": "python3"
  },
  "language_info": {
   "codemirror_mode": {
    "name": "ipython",
    "version": 3
   },
   "file_extension": ".py",
   "mimetype": "text/x-python",
   "name": "python",
   "nbconvert_exporter": "python",
   "pygments_lexer": "ipython3",
   "version": "3.8.8"
  }
 },
 "nbformat": 4,
 "nbformat_minor": 5
}
