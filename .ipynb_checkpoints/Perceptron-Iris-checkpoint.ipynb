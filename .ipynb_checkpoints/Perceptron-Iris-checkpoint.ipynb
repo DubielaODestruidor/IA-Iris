{
 "cells": [
  {
   "cell_type": "code",
   "execution_count": 1,
   "id": "fb51e3da",
   "metadata": {},
   "outputs": [],
   "source": [
    "import numpy as np\n",
    "import pandas as pd\n",
    "import matplotlib.pyplot as plt"
   ]
  },
  {
   "cell_type": "code",
   "execution_count": 2,
   "id": "197a1c8c",
   "metadata": {
    "scrolled": false
   },
   "outputs": [
    {
     "data": {
      "text/html": [
       "<div>\n",
       "<style scoped>\n",
       "    .dataframe tbody tr th:only-of-type {\n",
       "        vertical-align: middle;\n",
       "    }\n",
       "\n",
       "    .dataframe tbody tr th {\n",
       "        vertical-align: top;\n",
       "    }\n",
       "\n",
       "    .dataframe thead th {\n",
       "        text-align: right;\n",
       "    }\n",
       "</style>\n",
       "<table border=\"1\" class=\"dataframe\">\n",
       "  <thead>\n",
       "    <tr style=\"text-align: right;\">\n",
       "      <th></th>\n",
       "      <th>sepal.length</th>\n",
       "      <th>sepal.width</th>\n",
       "      <th>petal.length</th>\n",
       "      <th>petal.width</th>\n",
       "      <th>variety</th>\n",
       "    </tr>\n",
       "  </thead>\n",
       "  <tbody>\n",
       "    <tr>\n",
       "      <th>0</th>\n",
       "      <td>7.0</td>\n",
       "      <td>3.2</td>\n",
       "      <td>4.7</td>\n",
       "      <td>1.4</td>\n",
       "      <td>Versicolor</td>\n",
       "    </tr>\n",
       "    <tr>\n",
       "      <th>1</th>\n",
       "      <td>6.9</td>\n",
       "      <td>3.1</td>\n",
       "      <td>4.9</td>\n",
       "      <td>1.5</td>\n",
       "      <td>Versicolor</td>\n",
       "    </tr>\n",
       "    <tr>\n",
       "      <th>2</th>\n",
       "      <td>6.8</td>\n",
       "      <td>2.8</td>\n",
       "      <td>4.8</td>\n",
       "      <td>1.4</td>\n",
       "      <td>Versicolor</td>\n",
       "    </tr>\n",
       "    <tr>\n",
       "      <th>3</th>\n",
       "      <td>6.7</td>\n",
       "      <td>3.1</td>\n",
       "      <td>4.7</td>\n",
       "      <td>1.5</td>\n",
       "      <td>Versicolor</td>\n",
       "    </tr>\n",
       "    <tr>\n",
       "      <th>4</th>\n",
       "      <td>6.7</td>\n",
       "      <td>3.1</td>\n",
       "      <td>4.4</td>\n",
       "      <td>1.4</td>\n",
       "      <td>Versicolor</td>\n",
       "    </tr>\n",
       "  </tbody>\n",
       "</table>\n",
       "</div>"
      ],
      "text/plain": [
       "   sepal.length  sepal.width  petal.length  petal.width     variety\n",
       "0           7.0          3.2           4.7          1.4  Versicolor\n",
       "1           6.9          3.1           4.9          1.5  Versicolor\n",
       "2           6.8          2.8           4.8          1.4  Versicolor\n",
       "3           6.7          3.1           4.7          1.5  Versicolor\n",
       "4           6.7          3.1           4.4          1.4  Versicolor"
      ]
     },
     "execution_count": 2,
     "metadata": {},
     "output_type": "execute_result"
    }
   ],
   "source": [
    "# Lendo a tabela\n",
    "tabela = pd.read_excel('iris.xlsx')\n",
    "\n",
    "# Mostrando os dados\n",
    "tabela.head()"
   ]
  },
  {
   "cell_type": "code",
   "execution_count": 4,
   "id": "1e354059",
   "metadata": {},
   "outputs": [
    {
     "data": {
      "text/plain": [
       "array([[4.7, 4.9, 4.8, 4.7, 4.4, 5. , 4.4, 4.6, 4.6, 4.5, 4.3, 4.7, 4.9,\n",
       "        4.4, 4.3, 4.5, 4.6, 4.7, 4.7, 4. , 4.5, 4.5, 5.1, 4. , 4.8, 4.2,\n",
       "        1.2, 4.1, 3.9, 4. , 1.5, 1.7, 4.2, 4.2, 4.5, 4.1, 3.5, 4.5, 4.1,\n",
       "        3.6, 4.2, 3.9, 1.4, 1.3, 4.4, 4. , 3.8, 3.7, 4. , 1.7, 1.3, 1.5,\n",
       "        1.7, 1.5, 4.5, 1.5, 1.5, 1.5, 1.4, 3.9, 1.9, 1.6, 1.5, 1.5, 1.4,\n",
       "        1.4, 1.5, 1.7, 3. , 1.4, 1.6, 1.3, 1.6, 1.5, 1.4, 1.2, 1.6, 3.3,\n",
       "        3.5, 1.4, 1.5, 1.5, 1.4, 3.3, 1.9, 1.6, 1.6, 1.4, 1.4, 1.6, 1.3,\n",
       "        1. , 1.4, 1.4, 1.5, 1.3, 1.3, 1.3, 1.4, 1.1]])"
      ]
     },
     "metadata": {},
     "output_type": "display_data"
    }
   ],
   "source": [
    "# Preparando os dados do comprimento da pétala\n",
    "\n",
    "petalLength = pd.read_excel('iris.xlsx', usecols=[2])\n",
    "petalLength = np.array(petalLength)\n",
    "petalLength = np.transpose(petalLength)\n",
    "\n",
    "display(petalLength)"
   ]
  },
  {
   "cell_type": "code",
   "execution_count": 6,
   "id": "e10a0add",
   "metadata": {},
   "outputs": [
    {
     "data": {
      "text/plain": [
       "array([[1.4, 1.5, 1.4, 1.5, 1.4, 1.7, 1.4, 1.3, 1.5, 1.5, 1.3, 1.6, 1.5,\n",
       "        1.3, 1.3, 1.5, 1.4, 1.4, 1.2, 1.3, 1.6, 1.5, 1.6, 1. , 1.8, 1.5,\n",
       "        0.2, 1. , 1.2, 1.2, 0.4, 0.3, 1.2, 1.3, 1.3, 1.3, 1. , 1.5, 1.3,\n",
       "        1.3, 1.3, 1.1, 0.2, 0.2, 1.2, 1.3, 1.1, 1. , 1.3, 0.4, 0.4, 0.2,\n",
       "        0.2, 0.4, 1.5, 0.2, 0.1, 0.2, 0.2, 1.4, 0.4, 0.2, 0.3, 0.4, 0.3,\n",
       "        0.2, 0.2, 0.5, 1.1, 0.2, 0.6, 0.3, 0.4, 0.2, 0.2, 0.2, 0.2, 1. ,\n",
       "        1. , 0.1, 0.2, 0.1, 0.2, 1. , 0.2, 0.2, 0.2, 0.3, 0.1, 0.2, 0.2,\n",
       "        0.2, 0.3, 0.2, 0.2, 0.3, 0.2, 0.2, 0.2, 0.1]])"
      ]
     },
     "metadata": {},
     "output_type": "display_data"
    }
   ],
   "source": [
    "# Preparando os dados da largura da pétala\n",
    "\n",
    "petalWidth = pd.read_excel('iris.xlsx', usecols=[3])\n",
    "petalWidth = np.array(petalWidth)\n",
    "petalWidth = np.transpose(petalWidth)\n",
    "\n",
    "# print(PetalWidth)\n",
    "display(petalWidth)"
   ]
  },
  {
   "cell_type": "code",
   "execution_count": 7,
   "id": "c43b5ec8",
   "metadata": {},
   "outputs": [
    {
     "data": {
      "text/plain": [
       "array([[7. , 6.9, 6.8, 6.7, 6.7, 6.7, 6.6, 6.6, 6.5, 6.4, 6.4, 6.3, 6.3,\n",
       "        6.3, 6.2, 6.2, 6.1, 6.1, 6.1, 6.1, 6. , 6. , 6. , 6. , 5.9, 5.9,\n",
       "        5.8, 5.8, 5.8, 5.8, 5.7, 5.7, 5.7, 5.7, 5.7, 5.7, 5.7, 5.6, 5.6,\n",
       "        5.6, 5.6, 5.6, 5.5, 5.5, 5.5, 5.5, 5.5, 5.5, 5.5, 5.4, 5.4, 5.4,\n",
       "        5.4, 5.4, 5.4, 5.3, 5.2, 5.2, 5.2, 5.2, 5.1, 5.1, 5.1, 5.1, 5.1,\n",
       "        5.1, 5.1, 5.1, 5.1, 5. , 5. , 5. , 5. , 5. , 5. , 5. , 5. , 5. ,\n",
       "        5. , 4.9, 4.9, 4.9, 4.9, 4.9, 4.8, 4.8, 4.8, 4.8, 4.8, 4.7, 4.7,\n",
       "        4.6, 4.6, 4.6, 4.6, 4.5, 4.4, 4.4, 4.4, 4.3]])"
      ]
     },
     "metadata": {},
     "output_type": "display_data"
    }
   ],
   "source": [
    "# Preparando os dados do comprimento da sépala\n",
    "\n",
    "sepalLength = pd.read_excel('iris.xlsx', usecols=[0])\n",
    "sepalLength = np.array(sepalLength)\n",
    "sepalLength = np.transpose(sepalLength)\n",
    "\n",
    "# print(SepalLength)\n",
    "display(sepalLength)"
   ]
  },
  {
   "cell_type": "code",
   "execution_count": 13,
   "id": "0a80f726",
   "metadata": {},
   "outputs": [
    {
     "data": {
      "text/plain": [
       "array([[3.2, 3.1, 2.8, 3.1, 3.1, 3. , 3. , 2.9, 2.8, 3.2, 2.9, 3.3, 2.5,\n",
       "        2.3, 2.9, 2.2, 3. , 2.9, 2.8, 2.8, 3.4, 2.9, 2.7, 2.2, 3.2, 3. ,\n",
       "        4. , 2.7, 2.7, 2.6, 4.4, 3.8, 3. , 2.9, 2.8, 2.8, 2.6, 3. , 3. ,\n",
       "        2.9, 2.7, 2.5, 4.2, 3.5, 2.6, 2.5, 2.4, 2.4, 2.3, 3.9, 3.9, 3.7,\n",
       "        3.4, 3.4, 3. , 3.7, 4.1, 3.5, 3.4, 2.7, 3.8, 3.8, 3.8, 3.7, 3.5,\n",
       "        3.5, 3.4, 3.3, 2.5, 3.6, 3.5, 3.5, 3.4, 3.4, 3.3, 3.2, 3. , 2.3,\n",
       "        2. , 3.6, 3.1, 3.1, 3. , 2.4, 3.4, 3.4, 3.1, 3. , 3. , 3.2, 3.2,\n",
       "        3.6, 3.4, 3.2, 3.1, 2.3, 3.2, 3. , 2.9, 3. ]])"
      ]
     },
     "metadata": {},
     "output_type": "display_data"
    }
   ],
   "source": [
    "# Preparando os dados do largura da pétala\n",
    "\n",
    "sepalWidth = pd.read_excel('iris.xlsx', usecols=[1])\n",
    "sepalWidth = np.array(sepalWidth)\n",
    "sepalWidth = np.transpose(sepalWidth)\n",
    "\n",
    "# print(SepalWidth)\n",
    "# type(SepalWidth)\n",
    "display(sepalWidth)"
   ]
  },
  {
   "cell_type": "code",
   "execution_count": 14,
   "id": "db0fcecd",
   "metadata": {},
   "outputs": [
    {
     "data": {
      "text/plain": [
       "array([[ 1,  1,  1,  1,  1,  1,  1,  1,  1,  1,  1,  1,  1,  1,  1,  1,\n",
       "         1,  1,  1,  1,  1,  1,  1,  1,  1,  1, -1,  1,  1,  1, -1, -1,\n",
       "         1,  1,  1,  1,  1,  1,  1,  1,  1,  1, -1, -1,  1,  1,  1,  1,\n",
       "         1, -1, -1, -1, -1, -1,  1, -1, -1, -1, -1,  1, -1, -1, -1, -1,\n",
       "        -1, -1, -1, -1,  1, -1, -1, -1, -1, -1, -1, -1, -1,  1,  1, -1,\n",
       "        -1, -1, -1,  1, -1, -1, -1, -1, -1, -1, -1, -1, -1, -1, -1, -1,\n",
       "        -1, -1, -1, -1]], dtype=int64)"
      ]
     },
     "metadata": {},
     "output_type": "display_data"
    }
   ],
   "source": [
    "# Saida\n",
    "\n",
    "variety = pd.read_excel('iris.xlsx', usecols=[4])\n",
    "variety.replace(['Versicolor', 'Setosa'], [1, -1], inplace=True)\n",
    "variety = np.array(variety)\n",
    "variety = np.transpose(variety)\n",
    "\n",
    "# print(Variety)\n",
    "# type(Variety)\n",
    "\n",
    "display(variety)"
   ]
  },
  {
   "cell_type": "code",
   "execution_count": 48,
   "id": "f36693d9",
   "metadata": {},
   "outputs": [
    {
     "name": "stdout",
     "output_type": "stream",
     "text": [
      "100\n",
      "100\n",
      "100\n",
      "100\n",
      "100\n"
     ]
    }
   ],
   "source": [
    "print(variety.size)\n",
    "print(sepalLength.size)\n",
    "print(sepalWidth.size)\n",
    "print(petalLength.size)\n",
    "print(petalWidth.size)\n"
   ]
  },
  {
   "cell_type": "code",
   "execution_count": 46,
   "id": "1287f6d6",
   "metadata": {},
   "outputs": [],
   "source": [
    "numEpocas =  20                    \n",
    "q = variety.size                         \n",
    "eta = 0.01             \n",
    "m = 4                  \n",
    "N = 8                  \n",
    "L = 1                  \n",
    "d = np.array(variety)\n",
    "W1 = np.random.random((N, m + 1)) \n",
    "W2 = np.random.random((L, N + 1)) \n",
    "E = np.zeros(q)\n",
    "Etm = np.zeros(numEpocas) \n",
    "bias = 1\n",
    "X = np.vstack((sepalLength, sepalWidth, petalLength, petalWidth))"
   ]
  },
  {
   "cell_type": "code",
   "execution_count": 47,
   "id": "6fc698a6",
   "metadata": {},
   "outputs": [
    {
     "ename": "ValueError",
     "evalue": "shapes (100,100) and (1,) not aligned: 100 (dim 1) != 1 (dim 0)",
     "output_type": "error",
     "traceback": [
      "\u001b[1;31m---------------------------------------------------------------------------\u001b[0m",
      "\u001b[1;31mValueError\u001b[0m                                Traceback (most recent call last)",
      "\u001b[1;32mC:\\Users\\ESTAGI~1.TI\\AppData\\Local\\Temp/ipykernel_14004/1330156386.py\u001b[0m in \u001b[0;36m<module>\u001b[1;34m\u001b[0m\n\u001b[0;32m      7\u001b[0m         \u001b[0me\u001b[0m \u001b[1;33m=\u001b[0m \u001b[0md\u001b[0m\u001b[1;33m[\u001b[0m\u001b[0mj\u001b[0m\u001b[1;33m]\u001b[0m \u001b[1;33m-\u001b[0m \u001b[0mY\u001b[0m\u001b[1;33m\u001b[0m\u001b[1;33m\u001b[0m\u001b[0m\n\u001b[0;32m      8\u001b[0m         \u001b[0mE\u001b[0m\u001b[1;33m[\u001b[0m\u001b[0mj\u001b[0m\u001b[1;33m]\u001b[0m \u001b[1;33m=\u001b[0m \u001b[1;33m(\u001b[0m\u001b[0me\u001b[0m\u001b[1;33m.\u001b[0m\u001b[0mtranspose\u001b[0m\u001b[1;33m(\u001b[0m\u001b[1;33m)\u001b[0m\u001b[1;33m.\u001b[0m\u001b[0mdot\u001b[0m\u001b[1;33m(\u001b[0m\u001b[0me\u001b[0m\u001b[1;33m)\u001b[0m\u001b[1;33m)\u001b[0m\u001b[1;33m/\u001b[0m\u001b[1;36m2\u001b[0m\u001b[1;33m\u001b[0m\u001b[1;33m\u001b[0m\u001b[0m\n\u001b[1;32m----> 9\u001b[1;33m         \u001b[0mdelta2\u001b[0m \u001b[1;33m=\u001b[0m \u001b[0mnp\u001b[0m\u001b[1;33m.\u001b[0m\u001b[0mdiag\u001b[0m\u001b[1;33m(\u001b[0m\u001b[0me\u001b[0m\u001b[1;33m)\u001b[0m\u001b[1;33m.\u001b[0m\u001b[0mdot\u001b[0m\u001b[1;33m(\u001b[0m\u001b[1;33m(\u001b[0m\u001b[1;36m1\u001b[0m \u001b[1;33m-\u001b[0m \u001b[0mY\u001b[0m\u001b[1;33m*\u001b[0m\u001b[0mY\u001b[0m\u001b[1;33m)\u001b[0m\u001b[1;33m)\u001b[0m\u001b[1;33m\u001b[0m\u001b[1;33m\u001b[0m\u001b[0m\n\u001b[0m\u001b[0;32m     10\u001b[0m         \u001b[0mvdelta2\u001b[0m \u001b[1;33m=\u001b[0m \u001b[1;33m(\u001b[0m\u001b[0mW2\u001b[0m\u001b[1;33m.\u001b[0m\u001b[0mtranspose\u001b[0m\u001b[1;33m(\u001b[0m\u001b[1;33m)\u001b[0m\u001b[1;33m)\u001b[0m\u001b[1;33m.\u001b[0m\u001b[0mdot\u001b[0m\u001b[1;33m(\u001b[0m\u001b[0mdelta2\u001b[0m\u001b[1;33m)\u001b[0m\u001b[1;33m\u001b[0m\u001b[1;33m\u001b[0m\u001b[0m\n\u001b[0;32m     11\u001b[0m         \u001b[0mdelta1\u001b[0m \u001b[1;33m=\u001b[0m \u001b[0mnp\u001b[0m\u001b[1;33m.\u001b[0m\u001b[0mdiag\u001b[0m\u001b[1;33m(\u001b[0m\u001b[1;36m1\u001b[0m \u001b[1;33m-\u001b[0m \u001b[0mo1b\u001b[0m\u001b[1;33m*\u001b[0m\u001b[0mo1b\u001b[0m\u001b[1;33m)\u001b[0m\u001b[1;33m.\u001b[0m\u001b[0mdot\u001b[0m\u001b[1;33m(\u001b[0m\u001b[0mvdelta2\u001b[0m\u001b[1;33m)\u001b[0m\u001b[1;33m\u001b[0m\u001b[1;33m\u001b[0m\u001b[0m\n",
      "\u001b[1;31mValueError\u001b[0m: shapes (100,100) and (1,) not aligned: 100 (dim 1) != 1 (dim 0)"
     ]
    }
   ],
   "source": [
    "for i in range(numEpocas):\n",
    "    for j in range(q): \n",
    "        Xb = np.hstack((bias, X[:,j]))  \n",
    "        o1 = np.tanh(W1.dot(Xb))                                                                                           \n",
    "        o1b = np.insert(o1, 0, bias)\n",
    "        Y = np.tanh(W2.dot(o1b))                                     \n",
    "        e = d[j] - Y                   \n",
    "        E[j] = (e.transpose().dot(e))/2\n",
    "        delta2 = np.diag(e).dot((1 - Y*Y))                               \n",
    "        vdelta2 = (W2.transpose()).dot(delta2)                           \n",
    "        delta1 = np.diag(1 - o1b*o1b).dot(vdelta2)                       \n",
    "        W1 = W1 + eta*(np.outer(delta1[1:], Xb))\n",
    "        W2 = W2 + eta*(np.outer(delta2, o1b))\n",
    "    Etm[i] = E.mean()"
   ]
  },
  {
   "cell_type": "code",
   "execution_count": null,
   "id": "a21320d8",
   "metadata": {},
   "outputs": [],
   "source": []
  },
  {
   "cell_type": "code",
   "execution_count": null,
   "id": "107e6d66",
   "metadata": {},
   "outputs": [],
   "source": []
  },
  {
   "cell_type": "code",
   "execution_count": 18,
   "id": "c16a4dd3",
   "metadata": {},
   "outputs": [],
   "source": [
    "def funcaoAtivacao(valor):\n",
    "    if valor < 0.0:\n",
    "        return(-1)\n",
    "    else:\n",
    "        return(1)"
   ]
  },
  {
   "cell_type": "code",
   "execution_count": 49,
   "id": "11a5d237",
   "metadata": {},
   "outputs": [],
   "source": [
    "# Desenvolvendo o treinamento\n",
    "for i in range(numEpocas):\n",
    "    for j in range(q):\n",
    "        \n",
    "        # Inserindo o bias\n",
    "        # : significa que o irá usar todas as linhas até o índice K???\n",
    "        xb = np.hstack((bias, X[:,k]))\n",
    "        \n",
    "        # Produto escalar dos vetores de entrada (campo induzido, vetor resultante...)\n",
    "        V = np.dot(vetorZero, xb)\n",
    "        \n",
    "        # Saída\n",
    "        # Porque duplo parênteses???\n",
    "        Yr = funcaoAtivacao((V))\n",
    "        \n",
    "        # Cálculo de erro\n",
    "#         e[k] = Y[k] - Yr\n",
    "        \n",
    "        # Treinamento da rede\n",
    "        vetorZero = vetorZero + eta * e[k] * xb"
   ]
  },
  {
   "cell_type": "code",
   "execution_count": 36,
   "id": "214f1546",
   "metadata": {},
   "outputs": [
    {
     "data": {
      "image/png": "[encoded data removed]",
      "text/plain": [
       "<Figure size 432x288 with 1 Axes>"
      ]
     },
     "metadata": {
      "needs_background": "light"
     },
     "output_type": "display_data"
    }
   ],
   "source": [
    "plt.scatter(petalWidth)\n",
    "plt.show()"
   ]
  },
  {
   "cell_type": "code",
   "execution_count": 50,
   "id": "6a65c103",
   "metadata": {},
   "outputs": [
    {
     "name": "stdout",
     "output_type": "stream",
     "text": [
      "[[0.0059625  0.04054501 0.01818563 0.02832188 0.00884438]]\n"
     ]
    }
   ],
   "source": [
    "print(vetorZero)"
   ]
  },
  {
   "cell_type": "code",
   "execution_count": null,
   "id": "c8cc0f8a",
   "metadata": {},
   "outputs": [],
   "source": []
  }
 ],
 "metadata": {
  "kernelspec": {
   "display_name": "Python 3 (ipykernel)",
   "language": "python",
   "name": "python3"
  },
  "language_info": {
   "codemirror_mode": {
    "name": "ipython",
    "version": 3
   },
   "file_extension": ".py",
   "mimetype": "text/x-python",
   "name": "python",
   "nbconvert_exporter": "python",
   "pygments_lexer": "ipython3",
   "version": "3.9.7"
  }
 },
 "nbformat": 4,
 "nbformat_minor": 5
}
